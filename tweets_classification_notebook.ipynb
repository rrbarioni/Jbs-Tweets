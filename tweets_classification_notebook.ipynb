{
 "cells": [
  {
   "cell_type": "code",
   "execution_count": 1,
   "metadata": {
    "collapsed": true
   },
   "outputs": [],
   "source": [
    "import re\n",
    "import csv\n",
    "import numpy as np\n",
    "\n",
    "from sklearn.feature_extraction.text import CountVectorizer\n",
    "from sklearn.naive_bayes import MultinomialNB\n",
    "from sklearn.model_selection import StratifiedKFold"
   ]
  },
  {
   "cell_type": "code",
   "execution_count": 2,
   "metadata": {
    "collapsed": true
   },
   "outputs": [],
   "source": [
    "targets = [\n",
    "    'No', # Not related to JBS delations\n",
    "    'Yes' # Related to JBS delations\n",
    "]\n",
    "\n",
    "RE_NUMBERS = re.compile(r'[0-9]+')\n",
    "RE_NOT_LETTERS = re.compile(r'[^a-zA-Z]+')\n",
    "RE_SPACES = re.compile(r'[^\\S\\f\\t\\n\\r]+')\n",
    "\n",
    "def clean_text(text):\n",
    "    text = RE_NUMBERS.sub(' NUM ', text)\n",
    "    text = RE_NOT_LETTERS.sub(' ', text)\n",
    "    text = RE_SPACES.sub(' ', text)\n",
    "    return text.lower()"
   ]
  },
  {
   "cell_type": "code",
   "execution_count": 3,
   "metadata": {
    "collapsed": true
   },
   "outputs": [],
   "source": [
    "rows = []\n",
    "with open('tweets_1000_day/tweets_some_labeled.csv', newline='', encoding='utf-8') as csvfile:\n",
    "    for row in csvfile.readlines():\n",
    "        rows += [row.split(';')]"
   ]
  },
  {
   "cell_type": "code",
   "execution_count": 4,
   "metadata": {},
   "outputs": [
    {
     "name": "stdout",
     "output_type": "stream",
     "text": [
      "Tweets' set size: 243002\n"
     ]
    }
   ],
   "source": [
    "# Cleaning tweets\n",
    "tweets = [[row[0], clean_text(row[1]), row[2].replace('\\r\\n','')] for row in rows]\n",
    "print('Tweets\\' set size: ' + str(len(tweets)))"
   ]
  },
  {
   "cell_type": "code",
   "execution_count": 5,
   "metadata": {},
   "outputs": [
    {
     "name": "stdout",
     "output_type": "stream",
     "text": [
      "Training set size: 500\n"
     ]
    }
   ],
   "source": [
    "# Tweet takes part on training set if it is labeled (third column)\n",
    "classified_tweets = [tweet for tweet in tweets if tweet[2] != '']\n",
    "classified_tweets_text = [tweet[1] for tweet in classified_tweets]\n",
    "classified_tweets_target = [int(tweet[2]) for tweet in classified_tweets]\n",
    "print('Training set size: ' + str(len(classified_tweets)))"
   ]
  },
  {
   "cell_type": "code",
   "execution_count": 6,
   "metadata": {},
   "outputs": [],
   "source": [
    "# Vectorizing tweets\n",
    "tweet_vectorizer = CountVectorizer()\n",
    "tweet_vectorizer.fit(classified_tweets_text)\n",
    "\n",
    "vectorized_classified_tweets = tweet_vectorizer.transform(classified_tweets_text)\n",
    "labels_classified_tweets = np.array(classified_tweets_target)"
   ]
  },
  {
   "cell_type": "code",
   "execution_count": 7,
   "metadata": {},
   "outputs": [
    {
     "name": "stdout",
     "output_type": "stream",
     "text": [
      "1.0\n"
     ]
    }
   ],
   "source": [
    "# Stratified K-fold\n",
    "# Random training sets in order to choose the best classifier\n",
    "number_of_folds = 100\n",
    "stratified_kfold = StratifiedKFold(n_splits=number_of_folds, shuffle=True)\n",
    "\n",
    "best_classifier = None\n",
    "best_classifier_score = 0\n",
    "\n",
    "for i, (train_indices, test_indices) in enumerate(stratified_kfold.split(vectorized_classified_tweets, labels_classified_tweets)):\n",
    "    current_nb_classifier = MultinomialNB()\n",
    "\n",
    "    train_instances = vectorized_classified_tweets[train_indices]\n",
    "    train_classes = labels_classified_tweets[train_indices]\n",
    "    test_instances = vectorized_classified_tweets[test_indices]\n",
    "    test_classes = labels_classified_tweets[test_indices]\n",
    "\n",
    "    current_nb_classifier.fit(train_instances, train_classes)\n",
    "    score = current_nb_classifier.score(test_instances, test_classes)\n",
    "    \n",
    "    if score > best_classifier_score:\n",
    "        best_classifier = current_nb_classifier\n",
    "        best_classifier_score = score\n",
    "        \n",
    "print(best_classifier_score)"
   ]
  },
  {
   "cell_type": "code",
   "execution_count": 8,
   "metadata": {},
   "outputs": [
    {
     "name": "stdout",
     "output_type": "stream",
     "text": [
      "[0 0 0 0 0 0 0 0 1 1 0 0 0 0 0 0 0 0 0 0 0 1 0 0 0 0 0 1 0 0 0 0 0 0 0 0 0\n",
      " 1 0 1]\n"
     ]
    }
   ],
   "source": [
    "# Classify all tweets dataset\n",
    "tweets_text = [tweet[1] for tweet in tweets]\n",
    "vectorized_tweets = tweet_vectorizer.transform(tweets_text)\n",
    "labels_tweets = best_classifier.predict(vectorized_tweets)\n",
    "\n",
    "print(labels_tweets[:40])"
   ]
  }
 ],
 "metadata": {
  "kernelspec": {
   "display_name": "Python 3",
   "language": "python",
   "name": "python3"
  },
  "language_info": {
   "codemirror_mode": {
    "name": "ipython",
    "version": 3
   },
   "file_extension": ".py",
   "mimetype": "text/x-python",
   "name": "python",
   "nbconvert_exporter": "python",
   "pygments_lexer": "ipython3",
   "version": "3.5.0"
  }
 },
 "nbformat": 4,
 "nbformat_minor": 2
}
