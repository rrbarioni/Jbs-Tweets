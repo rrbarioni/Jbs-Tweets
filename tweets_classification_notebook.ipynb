{
 "cells": [
  {
   "cell_type": "code",
   "execution_count": 27,
   "metadata": {
    "collapsed": true
   },
   "outputs": [],
   "source": [
    "import re\n",
    "import csv\n",
    "import numpy as np\n",
    "\n",
    "from sklearn.feature_extraction.text import CountVectorizer\n",
    "from sklearn.naive_bayes import MultinomialNB\n",
    "from sklearn.pipeline import Pipeline"
   ]
  },
  {
   "cell_type": "code",
   "execution_count": 28,
   "metadata": {
    "collapsed": true
   },
   "outputs": [],
   "source": [
    "targets = [\n",
    "    'No', # Not related to JBS delations\n",
    "    'Yes' # Related to JBS delations\n",
    "]\n",
    "\n",
    "RE_NUMBERS = re.compile(r'[0-9]+')\n",
    "RE_NOT_LETTERS = re.compile(r'[^a-zA-Z]+')\n",
    "RE_SPACES = re.compile(r'[^\\S\\f\\t\\n\\r]+')\n",
    "\n",
    "def clean_text(text):\n",
    "    text = RE_NUMBERS.sub(' NUM ', text)\n",
    "    text = RE_NOT_LETTERS.sub(' ', text)\n",
    "    text = RE_SPACES.sub(' ', text)\n",
    "    return text.lower()"
   ]
  },
  {
   "cell_type": "code",
   "execution_count": 29,
   "metadata": {},
   "outputs": [],
   "source": [
    "rows = []\n",
    "with open('tweets_1000_day/all_tweets_labeled_2.csv', newline='', encoding='utf-8') as csvfile:\n",
    "    for row in csvfile.readlines():\n",
    "        rows += [row.split(';')]"
   ]
  },
  {
   "cell_type": "code",
   "execution_count": 32,
   "metadata": {},
   "outputs": [
    {
     "name": "stdout",
     "output_type": "stream",
     "text": [
      "Tweets' set size: 243002\n"
     ]
    }
   ],
   "source": [
    "# Cleaning tweets\n",
    "tweets = [[row[0], clean_text(row[1]), row[2].replace('\\r\\n','')] for row in rows]\n",
    "tweets_text = [tweet[1] for tweet in tweets]\n",
    "print('Tweets\\' set size: ' + str(len(tweets)))"
   ]
  },
  {
   "cell_type": "code",
   "execution_count": 39,
   "metadata": {},
   "outputs": [
    {
     "name": "stdout",
     "output_type": "stream",
     "text": [
      "Training set size: 454\n"
     ]
    }
   ],
   "source": [
    "# Tweet takes part on training set if it is labeled (third column)\n",
    "tweets_training_set = [tweet for tweet in tweets if tweet[2] != '']\n",
    "tweets_training_set_text = [tweet[1] for tweet in tweets_training_set]\n",
    "tweets_training_set_target = [int(tweet[2]) for tweet in tweets_training_set]\n",
    "print('Training set size: ' + str(len(tweets_training_set)))"
   ]
  },
  {
   "cell_type": "code",
   "execution_count": 40,
   "metadata": {},
   "outputs": [
    {
     "name": "stdout",
     "output_type": "stream",
     "text": [
      "(454, 2083)\n"
     ]
    }
   ],
   "source": [
    "# Bag of words\n",
    "count_vect = CountVectorizer()\n",
    "x_train_counts = count_vect.fit_transform(tweets_training_set_text)\n",
    "print(x_train_counts.shape)"
   ]
  },
  {
   "cell_type": "code",
   "execution_count": 41,
   "metadata": {},
   "outputs": [],
   "source": [
    "# Machine Learning\n",
    "# Training Naive Bayes (NB) classifier on training data.\n",
    "clf = MultinomialNB().fit(x_train_counts, tweets_training_set_target)"
   ]
  },
  {
   "cell_type": "code",
   "execution_count": 42,
   "metadata": {
    "collapsed": true
   },
   "outputs": [],
   "source": [
    "# Building a pipeline: We can write less code and do all of the above, by building a pipeline as follows:\n",
    "# The names ‘vect’ and ‘clf’ are arbitrary but will be used later.\n",
    "# We will be using the 'text_clf' going forward.\n",
    "text_clf = Pipeline([('vect', CountVectorizer()), ('clf', MultinomialNB())])\n",
    "text_clf = text_clf.fit(tweets_training_set_text, tweets_training_set_target)"
   ]
  },
  {
   "cell_type": "code",
   "execution_count": 44,
   "metadata": {},
   "outputs": [
    {
     "name": "stdout",
     "output_type": "stream",
     "text": [
      "0.911894273128\n"
     ]
    }
   ],
   "source": [
    "# Performance of NB Classifier (on training set)\n",
    "predicted = text_clf.predict(tweets_training_set_text)\n",
    "acc = np.mean(predicted == tweets_training_set_target)\n",
    "print(acc)"
   ]
  }
 ],
 "metadata": {
  "kernelspec": {
   "display_name": "Python 3",
   "language": "python",
   "name": "python3"
  },
  "language_info": {
   "codemirror_mode": {
    "name": "ipython",
    "version": 3
   },
   "file_extension": ".py",
   "mimetype": "text/x-python",
   "name": "python",
   "nbconvert_exporter": "python",
   "pygments_lexer": "ipython3",
   "version": "3.5.0"
  }
 },
 "nbformat": 4,
 "nbformat_minor": 2
}
